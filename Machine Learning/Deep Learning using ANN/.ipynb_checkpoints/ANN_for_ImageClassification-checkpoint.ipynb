{
 "cells": [
  {
   "cell_type": "code",
   "execution_count": 1,
   "metadata": {},
   "outputs": [],
   "source": [
    "import numpy as np\n",
    "import pandas as pd\n",
    "import matplotlib as mpl\n",
    "import matplotlib.pyplot as plt"
   ]
  },
  {
   "cell_type": "code",
   "execution_count": 2,
   "metadata": {},
   "outputs": [
    {
     "ename": "ImportError",
     "evalue": "Traceback (most recent call last):\n  File \"c:\\users\\varad\\appdata\\local\\programs\\python\\python38-32\\lib\\site-packages\\tensorflow\\python\\pywrap_tensorflow.py\", line 18, in swig_import_helper\n    fp, pathname, description = imp.find_module('_pywrap_tensorflow', [dirname(__file__)])\n  File \"c:\\users\\varad\\appdata\\local\\programs\\python\\python38-32\\lib\\imp.py\", line 296, in find_module\n    raise ImportError(_ERR_MSG.format(name), name=name)\nImportError: No module named '_pywrap_tensorflow'\n\nDuring handling of the above exception, another exception occurred:\n\nTraceback (most recent call last):\n  File \"c:\\users\\varad\\appdata\\local\\programs\\python\\python38-32\\lib\\site-packages\\tensorflow\\python\\__init__.py\", line 66, in <module>\n    from tensorflow.python import pywrap_tensorflow\n  File \"c:\\users\\varad\\appdata\\local\\programs\\python\\python38-32\\lib\\site-packages\\tensorflow\\python\\pywrap_tensorflow.py\", line 28, in <module>\n    _pywrap_tensorflow = swig_import_helper()\n  File \"c:\\users\\varad\\appdata\\local\\programs\\python\\python38-32\\lib\\site-packages\\tensorflow\\python\\pywrap_tensorflow.py\", line 20, in swig_import_helper\n    import _pywrap_tensorflow\nModuleNotFoundError: No module named '_pywrap_tensorflow'\n\n\nFailed to load the native TensorFlow runtime.\n\nSee https://github.com/tensorflow/tensorflow/blob/master/tensorflow/g3doc/get_started/os_setup.md#import_error\n\nfor some common reasons and solutions.  Include the entire stack trace\nabove this error message when asking for help.",
     "output_type": "error",
     "traceback": [
      "\u001b[1;31m---------------------------------------------------------------------------\u001b[0m",
      "\u001b[1;31mImportError\u001b[0m                               Traceback (most recent call last)",
      "\u001b[1;32mc:\\users\\varad\\appdata\\local\\programs\\python\\python38-32\\lib\\site-packages\\tensorflow\\python\\pywrap_tensorflow.py\u001b[0m in \u001b[0;36mswig_import_helper\u001b[1;34m()\u001b[0m\n\u001b[0;32m     17\u001b[0m         \u001b[1;32mtry\u001b[0m\u001b[1;33m:\u001b[0m\u001b[1;33m\u001b[0m\u001b[1;33m\u001b[0m\u001b[0m\n\u001b[1;32m---> 18\u001b[1;33m             \u001b[0mfp\u001b[0m\u001b[1;33m,\u001b[0m \u001b[0mpathname\u001b[0m\u001b[1;33m,\u001b[0m \u001b[0mdescription\u001b[0m \u001b[1;33m=\u001b[0m \u001b[0mimp\u001b[0m\u001b[1;33m.\u001b[0m\u001b[0mfind_module\u001b[0m\u001b[1;33m(\u001b[0m\u001b[1;34m'_pywrap_tensorflow'\u001b[0m\u001b[1;33m,\u001b[0m \u001b[1;33m[\u001b[0m\u001b[0mdirname\u001b[0m\u001b[1;33m(\u001b[0m\u001b[0m__file__\u001b[0m\u001b[1;33m)\u001b[0m\u001b[1;33m]\u001b[0m\u001b[1;33m)\u001b[0m\u001b[1;33m\u001b[0m\u001b[1;33m\u001b[0m\u001b[0m\n\u001b[0m\u001b[0;32m     19\u001b[0m         \u001b[1;32mexcept\u001b[0m \u001b[0mImportError\u001b[0m\u001b[1;33m:\u001b[0m\u001b[1;33m\u001b[0m\u001b[1;33m\u001b[0m\u001b[0m\n",
      "\u001b[1;32mc:\\users\\varad\\appdata\\local\\programs\\python\\python38-32\\lib\\imp.py\u001b[0m in \u001b[0;36mfind_module\u001b[1;34m(name, path)\u001b[0m\n\u001b[0;32m    295\u001b[0m     \u001b[1;32melse\u001b[0m\u001b[1;33m:\u001b[0m\u001b[1;33m\u001b[0m\u001b[1;33m\u001b[0m\u001b[0m\n\u001b[1;32m--> 296\u001b[1;33m         \u001b[1;32mraise\u001b[0m \u001b[0mImportError\u001b[0m\u001b[1;33m(\u001b[0m\u001b[0m_ERR_MSG\u001b[0m\u001b[1;33m.\u001b[0m\u001b[0mformat\u001b[0m\u001b[1;33m(\u001b[0m\u001b[0mname\u001b[0m\u001b[1;33m)\u001b[0m\u001b[1;33m,\u001b[0m \u001b[0mname\u001b[0m\u001b[1;33m=\u001b[0m\u001b[0mname\u001b[0m\u001b[1;33m)\u001b[0m\u001b[1;33m\u001b[0m\u001b[1;33m\u001b[0m\u001b[0m\n\u001b[0m\u001b[0;32m    297\u001b[0m \u001b[1;33m\u001b[0m\u001b[0m\n",
      "\u001b[1;31mImportError\u001b[0m: No module named '_pywrap_tensorflow'",
      "\nDuring handling of the above exception, another exception occurred:\n",
      "\u001b[1;31mModuleNotFoundError\u001b[0m                       Traceback (most recent call last)",
      "\u001b[1;32mc:\\users\\varad\\appdata\\local\\programs\\python\\python38-32\\lib\\site-packages\\tensorflow\\python\\__init__.py\u001b[0m in \u001b[0;36m<module>\u001b[1;34m\u001b[0m\n\u001b[0;32m     65\u001b[0m     \u001b[1;31m# use `dlopen()` for dynamic loading.\u001b[0m\u001b[1;33m\u001b[0m\u001b[1;33m\u001b[0m\u001b[1;33m\u001b[0m\u001b[0m\n\u001b[1;32m---> 66\u001b[1;33m     \u001b[1;32mfrom\u001b[0m \u001b[0mtensorflow\u001b[0m\u001b[1;33m.\u001b[0m\u001b[0mpython\u001b[0m \u001b[1;32mimport\u001b[0m \u001b[0mpywrap_tensorflow\u001b[0m\u001b[1;33m\u001b[0m\u001b[1;33m\u001b[0m\u001b[0m\n\u001b[0m\u001b[0;32m     67\u001b[0m \u001b[1;32mexcept\u001b[0m \u001b[0mImportError\u001b[0m\u001b[1;33m:\u001b[0m\u001b[1;33m\u001b[0m\u001b[1;33m\u001b[0m\u001b[0m\n",
      "\u001b[1;32mc:\\users\\varad\\appdata\\local\\programs\\python\\python38-32\\lib\\site-packages\\tensorflow\\python\\pywrap_tensorflow.py\u001b[0m in \u001b[0;36m<module>\u001b[1;34m\u001b[0m\n\u001b[0;32m     27\u001b[0m             \u001b[1;32mreturn\u001b[0m \u001b[0m_mod\u001b[0m\u001b[1;33m\u001b[0m\u001b[1;33m\u001b[0m\u001b[0m\n\u001b[1;32m---> 28\u001b[1;33m     \u001b[0m_pywrap_tensorflow\u001b[0m \u001b[1;33m=\u001b[0m \u001b[0mswig_import_helper\u001b[0m\u001b[1;33m(\u001b[0m\u001b[1;33m)\u001b[0m\u001b[1;33m\u001b[0m\u001b[1;33m\u001b[0m\u001b[0m\n\u001b[0m\u001b[0;32m     29\u001b[0m     \u001b[1;32mdel\u001b[0m \u001b[0mswig_import_helper\u001b[0m\u001b[1;33m\u001b[0m\u001b[1;33m\u001b[0m\u001b[0m\n",
      "\u001b[1;32mc:\\users\\varad\\appdata\\local\\programs\\python\\python38-32\\lib\\site-packages\\tensorflow\\python\\pywrap_tensorflow.py\u001b[0m in \u001b[0;36mswig_import_helper\u001b[1;34m()\u001b[0m\n\u001b[0;32m     19\u001b[0m         \u001b[1;32mexcept\u001b[0m \u001b[0mImportError\u001b[0m\u001b[1;33m:\u001b[0m\u001b[1;33m\u001b[0m\u001b[1;33m\u001b[0m\u001b[0m\n\u001b[1;32m---> 20\u001b[1;33m             \u001b[1;32mimport\u001b[0m \u001b[0m_pywrap_tensorflow\u001b[0m\u001b[1;33m\u001b[0m\u001b[1;33m\u001b[0m\u001b[0m\n\u001b[0m\u001b[0;32m     21\u001b[0m             \u001b[1;32mreturn\u001b[0m \u001b[0m_pywrap_tensorflow\u001b[0m\u001b[1;33m\u001b[0m\u001b[1;33m\u001b[0m\u001b[0m\n",
      "\u001b[1;31mModuleNotFoundError\u001b[0m: No module named '_pywrap_tensorflow'",
      "\nDuring handling of the above exception, another exception occurred:\n",
      "\u001b[1;31mImportError\u001b[0m                               Traceback (most recent call last)",
      "\u001b[1;32m<ipython-input-2-3d1e6d42ad48>\u001b[0m in \u001b[0;36m<module>\u001b[1;34m\u001b[0m\n\u001b[1;32m----> 1\u001b[1;33m \u001b[1;32mimport\u001b[0m \u001b[0mtensorflow\u001b[0m \u001b[1;32mas\u001b[0m \u001b[0mtf\u001b[0m\u001b[1;33m\u001b[0m\u001b[1;33m\u001b[0m\u001b[0m\n\u001b[0m\u001b[0;32m      2\u001b[0m \u001b[1;32mfrom\u001b[0m \u001b[0mtensorflow\u001b[0m \u001b[1;32mimport\u001b[0m \u001b[0mkeras\u001b[0m\u001b[1;33m\u001b[0m\u001b[1;33m\u001b[0m\u001b[0m\n",
      "\u001b[1;32mc:\\users\\varad\\appdata\\local\\programs\\python\\python38-32\\lib\\site-packages\\tensorflow\\__init__.py\u001b[0m in \u001b[0;36m<module>\u001b[1;34m\u001b[0m\n\u001b[0;32m     22\u001b[0m \u001b[1;33m\u001b[0m\u001b[0m\n\u001b[0;32m     23\u001b[0m \u001b[1;31m# pylint: disable=wildcard-import\u001b[0m\u001b[1;33m\u001b[0m\u001b[1;33m\u001b[0m\u001b[1;33m\u001b[0m\u001b[0m\n\u001b[1;32m---> 24\u001b[1;33m \u001b[1;32mfrom\u001b[0m \u001b[0mtensorflow\u001b[0m\u001b[1;33m.\u001b[0m\u001b[0mpython\u001b[0m \u001b[1;32mimport\u001b[0m \u001b[1;33m*\u001b[0m\u001b[1;33m\u001b[0m\u001b[1;33m\u001b[0m\u001b[0m\n\u001b[0m\u001b[0;32m     25\u001b[0m \u001b[1;31m# pylint: enable=wildcard-import\u001b[0m\u001b[1;33m\u001b[0m\u001b[1;33m\u001b[0m\u001b[1;33m\u001b[0m\u001b[0m\n\u001b[0;32m     26\u001b[0m \u001b[1;33m\u001b[0m\u001b[0m\n",
      "\u001b[1;32mc:\\users\\varad\\appdata\\local\\programs\\python\\python38-32\\lib\\site-packages\\tensorflow\\python\\__init__.py\u001b[0m in \u001b[0;36m<module>\u001b[1;34m\u001b[0m\n\u001b[0;32m     70\u001b[0m \u001b[1;32mfor\u001b[0m \u001b[0msome\u001b[0m \u001b[0mcommon\u001b[0m \u001b[0mreasons\u001b[0m \u001b[1;32mand\u001b[0m \u001b[0msolutions\u001b[0m\u001b[1;33m.\u001b[0m  \u001b[0mInclude\u001b[0m \u001b[0mthe\u001b[0m \u001b[0mentire\u001b[0m \u001b[0mstack\u001b[0m \u001b[0mtrace\u001b[0m\u001b[1;33m\u001b[0m\u001b[1;33m\u001b[0m\u001b[0m\n\u001b[0;32m     71\u001b[0m above this error message when asking for help.\"\"\" % traceback.format_exc()\n\u001b[1;32m---> 72\u001b[1;33m   \u001b[1;32mraise\u001b[0m \u001b[0mImportError\u001b[0m\u001b[1;33m(\u001b[0m\u001b[0mmsg\u001b[0m\u001b[1;33m)\u001b[0m\u001b[1;33m\u001b[0m\u001b[1;33m\u001b[0m\u001b[0m\n\u001b[0m\u001b[0;32m     73\u001b[0m \u001b[1;33m\u001b[0m\u001b[0m\n\u001b[0;32m     74\u001b[0m \u001b[1;31m# Protocol buffers\u001b[0m\u001b[1;33m\u001b[0m\u001b[1;33m\u001b[0m\u001b[1;33m\u001b[0m\u001b[0m\n",
      "\u001b[1;31mImportError\u001b[0m: Traceback (most recent call last):\n  File \"c:\\users\\varad\\appdata\\local\\programs\\python\\python38-32\\lib\\site-packages\\tensorflow\\python\\pywrap_tensorflow.py\", line 18, in swig_import_helper\n    fp, pathname, description = imp.find_module('_pywrap_tensorflow', [dirname(__file__)])\n  File \"c:\\users\\varad\\appdata\\local\\programs\\python\\python38-32\\lib\\imp.py\", line 296, in find_module\n    raise ImportError(_ERR_MSG.format(name), name=name)\nImportError: No module named '_pywrap_tensorflow'\n\nDuring handling of the above exception, another exception occurred:\n\nTraceback (most recent call last):\n  File \"c:\\users\\varad\\appdata\\local\\programs\\python\\python38-32\\lib\\site-packages\\tensorflow\\python\\__init__.py\", line 66, in <module>\n    from tensorflow.python import pywrap_tensorflow\n  File \"c:\\users\\varad\\appdata\\local\\programs\\python\\python38-32\\lib\\site-packages\\tensorflow\\python\\pywrap_tensorflow.py\", line 28, in <module>\n    _pywrap_tensorflow = swig_import_helper()\n  File \"c:\\users\\varad\\appdata\\local\\programs\\python\\python38-32\\lib\\site-packages\\tensorflow\\python\\pywrap_tensorflow.py\", line 20, in swig_import_helper\n    import _pywrap_tensorflow\nModuleNotFoundError: No module named '_pywrap_tensorflow'\n\n\nFailed to load the native TensorFlow runtime.\n\nSee https://github.com/tensorflow/tensorflow/blob/master/tensorflow/g3doc/get_started/os_setup.md#import_error\n\nfor some common reasons and solutions.  Include the entire stack trace\nabove this error message when asking for help."
     ]
    }
   ],
   "source": [
    "import tensorflow as tf\n",
    "from tensorflow import keras"
   ]
  },
  {
   "cell_type": "code",
   "execution_count": 3,
   "metadata": {},
   "outputs": [
    {
     "name": "stderr",
     "output_type": "stream",
     "text": [
      "Using TensorFlow backend.\n"
     ]
    }
   ],
   "source": [
    "from keras.datasets import fashion_mnist\n",
    "(x_train_f, y_train_f), (x_test_f, y_test_f) = fashion_mnist.load_data()"
   ]
  },
  {
   "cell_type": "code",
   "execution_count": 4,
   "metadata": {},
   "outputs": [
    {
     "name": "stdout",
     "output_type": "stream",
     "text": [
      "0\n",
      "0\n",
      "3\n",
      "0\n",
      "2\n",
      "7\n",
      "2\n",
      "5\n",
      "5\n"
     ]
    }
   ],
   "source": [
    "for i in range(1,10,1):\n",
    "    print(y_train_f[i])"
   ]
  },
  {
   "cell_type": "code",
   "execution_count": 5,
   "metadata": {},
   "outputs": [],
   "source": [
    "classes=['T-shirt/top','Trouser','Pullover','Dress','Coat','Sandal','Shirt','Sneaker','Bag','Ankle boot']"
   ]
  },
  {
   "cell_type": "code",
   "execution_count": 6,
   "metadata": {},
   "outputs": [
    {
     "data": {
      "text/plain": [
       "<matplotlib.image.AxesImage at 0x1f9ddcc8fc8>"
      ]
     },
     "execution_count": 6,
     "metadata": {},
     "output_type": "execute_result"
    },
    {
     "data": {
      "image/png": "[encoded data removed]",
      "text/plain": [
       "<Figure size 432x288 with 1 Axes>"
      ]
     },
     "metadata": {
      "needs_background": "light"
     },
     "output_type": "display_data"
    }
   ],
   "source": [
    "plt.imshow(x_train_f[1])"
   ]
  },
  {
   "cell_type": "markdown",
   "metadata": {},
   "source": [
    "Normalizing data:\n",
    "    In order to apply ANN on given data\n",
    "    we have to normalize it. i.e it should\n",
    "    range b/w 0-1. Dividing x_train&x_test by\n",
    "    255"
   ]
  },
  {
   "cell_type": "code",
   "execution_count": 7,
   "metadata": {},
   "outputs": [
    {
     "data": {
      "text/plain": [
       "array([[[0., 0., 0., ..., 0., 0., 0.],\n",
       "        [0., 0., 0., ..., 0., 0., 0.],\n",
       "        [0., 0., 0., ..., 0., 0., 0.],\n",
       "        ...,\n",
       "        [0., 0., 0., ..., 0., 0., 0.],\n",
       "        [0., 0., 0., ..., 0., 0., 0.],\n",
       "        [0., 0., 0., ..., 0., 0., 0.]],\n",
       "\n",
       "       [[0., 0., 0., ..., 0., 0., 0.],\n",
       "        [0., 0., 0., ..., 0., 0., 0.],\n",
       "        [0., 0., 0., ..., 0., 0., 0.],\n",
       "        ...,\n",
       "        [0., 0., 0., ..., 0., 0., 0.],\n",
       "        [0., 0., 0., ..., 0., 0., 0.],\n",
       "        [0., 0., 0., ..., 0., 0., 0.]],\n",
       "\n",
       "       [[0., 0., 0., ..., 0., 0., 0.],\n",
       "        [0., 0., 0., ..., 0., 0., 0.],\n",
       "        [0., 0., 0., ..., 0., 0., 0.],\n",
       "        ...,\n",
       "        [0., 0., 0., ..., 0., 0., 0.],\n",
       "        [0., 0., 0., ..., 0., 0., 0.],\n",
       "        [0., 0., 0., ..., 0., 0., 0.]],\n",
       "\n",
       "       ...,\n",
       "\n",
       "       [[0., 0., 0., ..., 0., 0., 0.],\n",
       "        [0., 0., 0., ..., 0., 0., 0.],\n",
       "        [0., 0., 0., ..., 0., 0., 0.],\n",
       "        ...,\n",
       "        [0., 0., 0., ..., 0., 0., 0.],\n",
       "        [0., 0., 0., ..., 0., 0., 0.],\n",
       "        [0., 0., 0., ..., 0., 0., 0.]],\n",
       "\n",
       "       [[0., 0., 0., ..., 0., 0., 0.],\n",
       "        [0., 0., 0., ..., 0., 0., 0.],\n",
       "        [0., 0., 0., ..., 0., 0., 0.],\n",
       "        ...,\n",
       "        [0., 0., 0., ..., 0., 0., 0.],\n",
       "        [0., 0., 0., ..., 0., 0., 0.],\n",
       "        [0., 0., 0., ..., 0., 0., 0.]],\n",
       "\n",
       "       [[0., 0., 0., ..., 0., 0., 0.],\n",
       "        [0., 0., 0., ..., 0., 0., 0.],\n",
       "        [0., 0., 0., ..., 0., 0., 0.],\n",
       "        ...,\n",
       "        [0., 0., 0., ..., 0., 0., 0.],\n",
       "        [0., 0., 0., ..., 0., 0., 0.],\n",
       "        [0., 0., 0., ..., 0., 0., 0.]]])"
      ]
     },
     "execution_count": 7,
     "metadata": {},
     "output_type": "execute_result"
    }
   ],
   "source": [
    "x_train_n=x_train_f/255\n",
    "x_test_n=x_test_f/255\n",
    "x_train_n\n",
    "x_test_n"
   ]
  },
  {
   "cell_type": "code",
   "execution_count": 8,
   "metadata": {},
   "outputs": [],
   "source": [
    "from sklearn.model_selection import train_test_split\n",
    "x_train,x_test,y_train,y_test=train_test_split(x_train_n,y_train_f)"
   ]
  },
  {
   "cell_type": "markdown",
   "metadata": {},
   "source": [
    "Building Sequential Model using Keras"
   ]
  },
  {
   "cell_type": "code",
   "execution_count": 9,
   "metadata": {},
   "outputs": [],
   "source": [
    "model=keras.models.Sequential()\n",
    "model.add(keras.layers.Flatten(input_shape=[28,28]))\n",
    "model.add(keras.layers.Dense(300,activation=\"relu\"))\n",
    "model.add(keras.layers.Dense(100,activation=\"relu\"))\n",
    "model.add(keras.layers.Dense(10,activation=\"softmax\"))"
   ]
  },
  {
   "cell_type": "code",
   "execution_count": 10,
   "metadata": {},
   "outputs": [
    {
     "name": "stdout",
     "output_type": "stream",
     "text": [
      "Model: \"sequential\"\n",
      "_________________________________________________________________\n",
      "Layer (type)                 Output Shape              Param #   \n",
      "=================================================================\n",
      "flatten (Flatten)            (None, 784)               0         \n",
      "_________________________________________________________________\n",
      "dense (Dense)                (None, 300)               235500    \n",
      "_________________________________________________________________\n",
      "dense_1 (Dense)              (None, 100)               30100     \n",
      "_________________________________________________________________\n",
      "dense_2 (Dense)              (None, 10)                1010      \n",
      "=================================================================\n",
      "Total params: 266,610\n",
      "Trainable params: 266,610\n",
      "Non-trainable params: 0\n",
      "_________________________________________________________________\n"
     ]
    }
   ],
   "source": [
    "model.summary()"
   ]
  },
  {
   "cell_type": "code",
   "execution_count": 11,
   "metadata": {},
   "outputs": [
    {
     "name": "stdout",
     "output_type": "stream",
     "text": [
      "Failed to import pydot. You must install pydot and graphviz for `pydotprint` to work.\n"
     ]
    }
   ],
   "source": [
    "import pydot\n",
    "keras.utils.plot_model(model)"
   ]
  },
  {
   "cell_type": "markdown",
   "metadata": {},
   "source": [
    "Compiling Model and Fitting Train Data"
   ]
  },
  {
   "cell_type": "code",
   "execution_count": 12,
   "metadata": {},
   "outputs": [],
   "source": [
    "model.compile(loss=\"sparse_categorical_crossentropy\",\n",
    "             optimizer=\"sgd\",\n",
    "              metrics=[\"accuracy\"])"
   ]
  },
  {
   "cell_type": "code",
   "execution_count": 13,
   "metadata": {},
   "outputs": [
    {
     "name": "stdout",
     "output_type": "stream",
     "text": [
      "Train on 45000 samples, validate on 15000 samples\n",
      "Epoch 1/50\n",
      "45000/45000 [==============================] - 4s 86us/sample - loss: 0.7444 - accuracy: 0.7574 - val_loss: 0.5219 - val_accuracy: 0.8229\n",
      "Epoch 2/50\n",
      "45000/45000 [==============================] - 4s 84us/sample - loss: 0.5020 - accuracy: 0.8263 - val_loss: 0.4569 - val_accuracy: 0.8409\n",
      "Epoch 3/50\n",
      "45000/45000 [==============================] - 4s 85us/sample - loss: 0.4552 - accuracy: 0.8416 - val_loss: 0.4269 - val_accuracy: 0.8485\n",
      "Epoch 4/50\n",
      "45000/45000 [==============================] - 4s 85us/sample - loss: 0.4295 - accuracy: 0.8509 - val_loss: 0.4579 - val_accuracy: 0.8323\n",
      "Epoch 5/50\n",
      "45000/45000 [==============================] - 4s 85us/sample - loss: 0.4082 - accuracy: 0.8581 - val_loss: 0.4233 - val_accuracy: 0.8528\n",
      "Epoch 6/50\n",
      "45000/45000 [==============================] - 4s 85us/sample - loss: 0.3930 - accuracy: 0.8638 - val_loss: 0.4074 - val_accuracy: 0.8513\n",
      "Epoch 7/50\n",
      "45000/45000 [==============================] - 4s 86us/sample - loss: 0.3792 - accuracy: 0.8665 - val_loss: 0.4142 - val_accuracy: 0.8469\n",
      "Epoch 8/50\n",
      "45000/45000 [==============================] - 4s 85us/sample - loss: 0.3686 - accuracy: 0.8712 - val_loss: 0.3917 - val_accuracy: 0.8599\n",
      "Epoch 9/50\n",
      "45000/45000 [==============================] - 4s 82us/sample - loss: 0.3573 - accuracy: 0.8742 - val_loss: 0.3839 - val_accuracy: 0.8639\n",
      "Epoch 10/50\n",
      "45000/45000 [==============================] - 4s 85us/sample - loss: 0.3489 - accuracy: 0.8769 - val_loss: 0.3581 - val_accuracy: 0.8733\n",
      "Epoch 11/50\n",
      "45000/45000 [==============================] - 4s 85us/sample - loss: 0.3398 - accuracy: 0.8790 - val_loss: 0.3978 - val_accuracy: 0.8539\n",
      "Epoch 12/50\n",
      "45000/45000 [==============================] - 4s 85us/sample - loss: 0.3312 - accuracy: 0.8832 - val_loss: 0.3555 - val_accuracy: 0.8744\n",
      "Epoch 13/50\n",
      "45000/45000 [==============================] - 4s 85us/sample - loss: 0.3234 - accuracy: 0.8849 - val_loss: 0.3537 - val_accuracy: 0.8731\n",
      "Epoch 14/50\n",
      "45000/45000 [==============================] - 4s 85us/sample - loss: 0.3176 - accuracy: 0.8869 - val_loss: 0.3458 - val_accuracy: 0.8752\n",
      "Epoch 15/50\n",
      "45000/45000 [==============================] - 4s 85us/sample - loss: 0.3106 - accuracy: 0.8887 - val_loss: 0.3312 - val_accuracy: 0.8835\n",
      "Epoch 16/50\n",
      "45000/45000 [==============================] - 4s 86us/sample - loss: 0.3049 - accuracy: 0.8906 - val_loss: 0.3552 - val_accuracy: 0.8711\n",
      "Epoch 17/50\n",
      "45000/45000 [==============================] - 4s 86us/sample - loss: 0.2999 - accuracy: 0.8922 - val_loss: 0.3666 - val_accuracy: 0.8721\n",
      "Epoch 18/50\n",
      "45000/45000 [==============================] - 4s 85us/sample - loss: 0.2934 - accuracy: 0.8947 - val_loss: 0.3406 - val_accuracy: 0.8797\n",
      "Epoch 19/50\n",
      "45000/45000 [==============================] - 4s 86us/sample - loss: 0.2875 - accuracy: 0.8962 - val_loss: 0.3434 - val_accuracy: 0.8755\n",
      "Epoch 20/50\n",
      "45000/45000 [==============================] - 4s 84us/sample - loss: 0.2824 - accuracy: 0.8989 - val_loss: 0.4155 - val_accuracy: 0.8486\n",
      "Epoch 21/50\n",
      "45000/45000 [==============================] - 4s 86us/sample - loss: 0.2790 - accuracy: 0.8994 - val_loss: 0.3197 - val_accuracy: 0.8854\n",
      "Epoch 22/50\n",
      "45000/45000 [==============================] - 4s 86us/sample - loss: 0.2721 - accuracy: 0.9010 - val_loss: 0.3483 - val_accuracy: 0.8745\n",
      "Epoch 23/50\n",
      "45000/45000 [==============================] - 4s 86us/sample - loss: 0.2678 - accuracy: 0.9038 - val_loss: 0.3447 - val_accuracy: 0.8719\n",
      "Epoch 24/50\n",
      "45000/45000 [==============================] - 4s 88us/sample - loss: 0.2645 - accuracy: 0.9049 - val_loss: 0.3215 - val_accuracy: 0.8865\n",
      "Epoch 25/50\n",
      "45000/45000 [==============================] - 4s 81us/sample - loss: 0.2606 - accuracy: 0.9060 - val_loss: 0.3128 - val_accuracy: 0.8897\n",
      "Epoch 26/50\n",
      "45000/45000 [==============================] - 4s 81us/sample - loss: 0.2553 - accuracy: 0.9085 - val_loss: 0.3155 - val_accuracy: 0.8874\n",
      "Epoch 27/50\n",
      "45000/45000 [==============================] - 4s 80us/sample - loss: 0.2509 - accuracy: 0.9105 - val_loss: 0.3148 - val_accuracy: 0.8880\n",
      "Epoch 28/50\n",
      "45000/45000 [==============================] - 4s 81us/sample - loss: 0.2473 - accuracy: 0.9114 - val_loss: 0.3093 - val_accuracy: 0.8892\n",
      "Epoch 29/50\n",
      "45000/45000 [==============================] - 4s 80us/sample - loss: 0.2438 - accuracy: 0.9123 - val_loss: 0.3222 - val_accuracy: 0.8833\n",
      "Epoch 30/50\n",
      "45000/45000 [==============================] - 4s 80us/sample - loss: 0.2396 - accuracy: 0.9146 - val_loss: 0.3082 - val_accuracy: 0.8901\n",
      "Epoch 31/50\n",
      "45000/45000 [==============================] - 4s 82us/sample - loss: 0.2353 - accuracy: 0.9155 - val_loss: 0.3087 - val_accuracy: 0.8896\n",
      "Epoch 32/50\n",
      "45000/45000 [==============================] - 4s 81us/sample - loss: 0.2320 - accuracy: 0.9168 - val_loss: 0.3213 - val_accuracy: 0.8835\n",
      "Epoch 33/50\n",
      "45000/45000 [==============================] - 4s 97us/sample - loss: 0.2283 - accuracy: 0.9176 - val_loss: 0.3182 - val_accuracy: 0.8870\n",
      "Epoch 34/50\n",
      "45000/45000 [==============================] - 4s 91us/sample - loss: 0.2256 - accuracy: 0.9186 - val_loss: 0.3152 - val_accuracy: 0.8873\n",
      "Epoch 35/50\n",
      "45000/45000 [==============================] - 4s 87us/sample - loss: 0.2202 - accuracy: 0.9210 - val_loss: 0.3296 - val_accuracy: 0.8854\n",
      "Epoch 36/50\n",
      "45000/45000 [==============================] - 4s 81us/sample - loss: 0.2180 - accuracy: 0.9235 - val_loss: 0.3170 - val_accuracy: 0.8854\n",
      "Epoch 37/50\n",
      "45000/45000 [==============================] - 4s 86us/sample - loss: 0.2139 - accuracy: 0.9241 - val_loss: 0.5172 - val_accuracy: 0.8296\n",
      "Epoch 38/50\n",
      "45000/45000 [==============================] - 4s 82us/sample - loss: 0.2116 - accuracy: 0.9249 - val_loss: 0.3010 - val_accuracy: 0.8939\n",
      "Epoch 39/50\n",
      "45000/45000 [==============================] - 4s 82us/sample - loss: 0.2079 - accuracy: 0.9256 - val_loss: 0.2980 - val_accuracy: 0.8942\n",
      "Epoch 40/50\n",
      "45000/45000 [==============================] - 4s 83us/sample - loss: 0.2049 - accuracy: 0.9270 - val_loss: 0.3045 - val_accuracy: 0.8906\n",
      "Epoch 41/50\n",
      "45000/45000 [==============================] - 4s 81us/sample - loss: 0.2016 - accuracy: 0.9277 - val_loss: 0.2983 - val_accuracy: 0.8945\n",
      "Epoch 42/50\n",
      "45000/45000 [==============================] - 4s 81us/sample - loss: 0.1976 - accuracy: 0.9290 - val_loss: 0.3054 - val_accuracy: 0.8918\n",
      "Epoch 43/50\n",
      "45000/45000 [==============================] - 3s 76us/sample - loss: 0.1950 - accuracy: 0.9303 - val_loss: 0.3288 - val_accuracy: 0.8827\n",
      "Epoch 44/50\n",
      "45000/45000 [==============================] - 4s 81us/sample - loss: 0.1930 - accuracy: 0.9322 - val_loss: 0.3111 - val_accuracy: 0.8911\n",
      "Epoch 45/50\n",
      "45000/45000 [==============================] - 4s 83us/sample - loss: 0.1900 - accuracy: 0.9321 - val_loss: 0.3017 - val_accuracy: 0.8930\n",
      "Epoch 46/50\n",
      "45000/45000 [==============================] - 4s 82us/sample - loss: 0.1859 - accuracy: 0.9334 - val_loss: 0.3405 - val_accuracy: 0.8791\n",
      "Epoch 47/50\n",
      "45000/45000 [==============================] - 4s 82us/sample - loss: 0.1832 - accuracy: 0.9342 - val_loss: 0.2986 - val_accuracy: 0.8961\n",
      "Epoch 48/50\n",
      "45000/45000 [==============================] - 4s 84us/sample - loss: 0.1809 - accuracy: 0.9355 - val_loss: 0.2936 - val_accuracy: 0.8983\n",
      "Epoch 49/50\n",
      "45000/45000 [==============================] - 4s 80us/sample - loss: 0.1787 - accuracy: 0.9362 - val_loss: 0.3062 - val_accuracy: 0.8953\n",
      "Epoch 50/50\n",
      "45000/45000 [==============================] - 4s 83us/sample - loss: 0.1755 - accuracy: 0.9385 - val_loss: 0.3059 - val_accuracy: 0.8957\n"
     ]
    }
   ],
   "source": [
    "model_history = model.fit(x_train,y_train,epochs=50,\n",
    "                         validation_data=(x_test,y_test))"
   ]
  },
  {
   "cell_type": "code",
   "execution_count": 14,
   "metadata": {},
   "outputs": [
    {
     "data": {
      "text/plain": [
       "{'loss': [0.7444103643311395,\n",
       "  0.5020005126953125,\n",
       "  0.45524680433803133,\n",
       "  0.42946469948556687,\n",
       "  0.4081701071315342,\n",
       "  0.39298791291448804,\n",
       "  0.37924280874729155,\n",
       "  0.36857190895080566,\n",
       "  0.35731106191476186,\n",
       "  0.348937593626976,\n",
       "  0.33984484673076204,\n",
       "  0.3312473534292645,\n",
       "  0.3233864412519667,\n",
       "  0.3175634712855021,\n",
       "  0.3105795229037603,\n",
       "  0.30489706195195515,\n",
       "  0.2999216752529144,\n",
       "  0.29335416683620874,\n",
       "  0.28745898733403946,\n",
       "  0.28240692252053157,\n",
       "  0.27896143196225165,\n",
       "  0.2721483662101958,\n",
       "  0.2677828105794059,\n",
       "  0.26446898011631437,\n",
       "  0.26064471136762035,\n",
       "  0.25534209718704226,\n",
       "  0.2509208135233985,\n",
       "  0.24728333524598015,\n",
       "  0.24381602001720004,\n",
       "  0.2395866140736474,\n",
       "  0.23531641525559954,\n",
       "  0.2320094476832284,\n",
       "  0.2283383656197124,\n",
       "  0.22562295665078694,\n",
       "  0.22020588272412617,\n",
       "  0.21804273960325454,\n",
       "  0.21385179264280532,\n",
       "  0.2115581375837326,\n",
       "  0.20786910401715172,\n",
       "  0.20489131971001626,\n",
       "  0.20159979442490472,\n",
       "  0.197598909857538,\n",
       "  0.19499800008800294,\n",
       "  0.19297802720334795,\n",
       "  0.1900365100880464,\n",
       "  0.1859233747402827,\n",
       "  0.1831861608174112,\n",
       "  0.18089941368632848,\n",
       "  0.17868375978602302,\n",
       "  0.17550443940079874],\n",
       " 'accuracy': [0.7574,\n",
       "  0.82633334,\n",
       "  0.8416,\n",
       "  0.8508889,\n",
       "  0.8581111,\n",
       "  0.8638222,\n",
       "  0.86646664,\n",
       "  0.87115556,\n",
       "  0.8742,\n",
       "  0.8768889,\n",
       "  0.8790445,\n",
       "  0.88317776,\n",
       "  0.8849111,\n",
       "  0.88688886,\n",
       "  0.88868886,\n",
       "  0.8905778,\n",
       "  0.8922,\n",
       "  0.8946667,\n",
       "  0.8962,\n",
       "  0.89886665,\n",
       "  0.8994222,\n",
       "  0.9010444,\n",
       "  0.9038444,\n",
       "  0.90488887,\n",
       "  0.90602225,\n",
       "  0.90853333,\n",
       "  0.9104667,\n",
       "  0.9114444,\n",
       "  0.9122667,\n",
       "  0.9146,\n",
       "  0.9155333,\n",
       "  0.9168,\n",
       "  0.9176,\n",
       "  0.9186222,\n",
       "  0.9209778,\n",
       "  0.9234889,\n",
       "  0.9241111,\n",
       "  0.9248667,\n",
       "  0.92557776,\n",
       "  0.92697775,\n",
       "  0.92773336,\n",
       "  0.9290444,\n",
       "  0.9303333,\n",
       "  0.9322444,\n",
       "  0.9320889,\n",
       "  0.93344444,\n",
       "  0.9341556,\n",
       "  0.93546665,\n",
       "  0.9362222,\n",
       "  0.93851113],\n",
       " 'val_loss': [0.5218661896705628,\n",
       "  0.45692769487698875,\n",
       "  0.4269367789745331,\n",
       "  0.45791919752756755,\n",
       "  0.4233403950770696,\n",
       "  0.40738193079630536,\n",
       "  0.41421416002909345,\n",
       "  0.3916634858608246,\n",
       "  0.38389707539081575,\n",
       "  0.35806889651616414,\n",
       "  0.3977953075885773,\n",
       "  0.35551079077720643,\n",
       "  0.35367229155699415,\n",
       "  0.34575715755621594,\n",
       "  0.3311812640666962,\n",
       "  0.3551528052886327,\n",
       "  0.3665979192097982,\n",
       "  0.34060173634688057,\n",
       "  0.34335066119035085,\n",
       "  0.41552054538726807,\n",
       "  0.31972515881061553,\n",
       "  0.3483318568944931,\n",
       "  0.34466537175973255,\n",
       "  0.32148058005174,\n",
       "  0.312801903963089,\n",
       "  0.3154747136116028,\n",
       "  0.3147907284498215,\n",
       "  0.3092695018966993,\n",
       "  0.32221686789989473,\n",
       "  0.308245334148407,\n",
       "  0.30874693738619485,\n",
       "  0.321273239894708,\n",
       "  0.3182327400604884,\n",
       "  0.31516484755675,\n",
       "  0.3296143687844276,\n",
       "  0.31703114777406055,\n",
       "  0.5171552020867666,\n",
       "  0.30095414032936096,\n",
       "  0.29795870387951534,\n",
       "  0.3045487690250079,\n",
       "  0.2982537345210711,\n",
       "  0.3054376708507538,\n",
       "  0.3288159518559774,\n",
       "  0.3111001378059387,\n",
       "  0.3016517478386561,\n",
       "  0.3405323235114415,\n",
       "  0.2985572788953781,\n",
       "  0.2935625053445498,\n",
       "  0.30618679110209146,\n",
       "  0.3058554123044014],\n",
       " 'val_accuracy': [0.8228667,\n",
       "  0.8409333,\n",
       "  0.8484667,\n",
       "  0.8323333,\n",
       "  0.8528,\n",
       "  0.8513333,\n",
       "  0.8469333,\n",
       "  0.8598667,\n",
       "  0.8638667,\n",
       "  0.87333333,\n",
       "  0.85393333,\n",
       "  0.8744,\n",
       "  0.87313336,\n",
       "  0.8752,\n",
       "  0.88353336,\n",
       "  0.8711333,\n",
       "  0.8721333,\n",
       "  0.8796667,\n",
       "  0.87546664,\n",
       "  0.8486,\n",
       "  0.8854,\n",
       "  0.87453336,\n",
       "  0.87193334,\n",
       "  0.8865333,\n",
       "  0.8897333,\n",
       "  0.8874,\n",
       "  0.888,\n",
       "  0.8892,\n",
       "  0.8833333,\n",
       "  0.8901333,\n",
       "  0.8896,\n",
       "  0.88353336,\n",
       "  0.887,\n",
       "  0.8872667,\n",
       "  0.8854,\n",
       "  0.8854,\n",
       "  0.8296,\n",
       "  0.89386666,\n",
       "  0.8942,\n",
       "  0.8906,\n",
       "  0.89446664,\n",
       "  0.8918,\n",
       "  0.88266665,\n",
       "  0.8911333,\n",
       "  0.893,\n",
       "  0.87906665,\n",
       "  0.89606667,\n",
       "  0.8983333,\n",
       "  0.89533335,\n",
       "  0.89573336]}"
      ]
     },
     "execution_count": 14,
     "metadata": {},
     "output_type": "execute_result"
    }
   ],
   "source": [
    "model_history.history"
   ]
  },
  {
   "cell_type": "code",
   "execution_count": 15,
   "metadata": {},
   "outputs": [
    {
     "data": {
      "image/png": "[encoded data removed]",
      "text/plain": [
       "<Figure size 576x360 with 1 Axes>"
      ]
     },
     "metadata": {
      "needs_background": "light"
     },
     "output_type": "display_data"
    }
   ],
   "source": [
    "pd.DataFrame(model_history.history).plot(figsize=(8,5))\n",
    "plt.grid(True)\n",
    "plt.gca().set_ylim(0,1)\n",
    "plt.show()"
   ]
  },
  {
   "cell_type": "code",
   "execution_count": 16,
   "metadata": {},
   "outputs": [],
   "source": [
    "x_test_f=x_test_f/255"
   ]
  },
  {
   "cell_type": "code",
   "execution_count": 17,
   "metadata": {},
   "outputs": [
    {
     "name": "stdout",
     "output_type": "stream",
     "text": [
      "10000/10000 [==============================] - 0s 41us/sample - loss: 0.3472 - accuracy: 0.8816\n"
     ]
    },
    {
     "data": {
      "text/plain": [
       "[0.3472249630272388, 0.8816]"
      ]
     },
     "execution_count": 17,
     "metadata": {},
     "output_type": "execute_result"
    }
   ],
   "source": [
    "model.evaluate(x_test_f,y_test_f)"
   ]
  },
  {
   "cell_type": "code",
   "execution_count": 18,
   "metadata": {},
   "outputs": [
    {
     "data": {
      "text/plain": [
       "<matplotlib.image.AxesImage at 0x1f9dceafbc8>"
      ]
     },
     "execution_count": 18,
     "metadata": {},
     "output_type": "execute_result"
    },
    {
     "data": {
      "image/png": "[encoded data removed]",
      "text/plain": [
       "<Figure size 432x288 with 1 Axes>"
      ]
     },
     "metadata": {
      "needs_background": "light"
     },
     "output_type": "display_data"
    }
   ],
   "source": [
    "plt.imshow(x_test_n[0])"
   ]
  },
  {
   "cell_type": "code",
   "execution_count": 19,
   "metadata": {},
   "outputs": [],
   "source": [
    "x_new=x_test[:3]"
   ]
  },
  {
   "cell_type": "code",
   "execution_count": 20,
   "metadata": {},
   "outputs": [],
   "source": [
    "xnp=model.predict_classes(x_new)"
   ]
  },
  {
   "cell_type": "code",
   "execution_count": 21,
   "metadata": {},
   "outputs": [
    {
     "data": {
      "text/plain": [
       "array(['Coat', 'T-shirt/top', 'Sneaker'], dtype='<U11')"
      ]
     },
     "execution_count": 21,
     "metadata": {},
     "output_type": "execute_result"
    }
   ],
   "source": [
    "np.array(classes)[xnp]"
   ]
  },
  {
   "cell_type": "code",
   "execution_count": 22,
   "metadata": {},
   "outputs": [
    {
     "data": {
      "text/plain": [
       "<matplotlib.image.AxesImage at 0x1f9dcf31688>"
      ]
     },
     "execution_count": 22,
     "metadata": {},
     "output_type": "execute_result"
    },
    {
     "data": {
      "image/png": "[encoded data removed]",
      "text/plain": [
       "<Figure size 432x288 with 1 Axes>"
      ]
     },
     "metadata": {
      "needs_background": "light"
     },
     "output_type": "display_data"
    }
   ],
   "source": [
    "plt.imshow(x_new[0]*255)"
   ]
  },
  {
   "cell_type": "code",
   "execution_count": 23,
   "metadata": {},
   "outputs": [
    {
     "data": {
      "text/plain": [
       "<matplotlib.image.AxesImage at 0x1f9fedb6648>"
      ]
     },
     "execution_count": 23,
     "metadata": {},
     "output_type": "execute_result"
    },
    {
     "data": {
      "image/png": "[encoded data removed]",
      "text/plain": [
       "<Figure size 432x288 with 1 Axes>"
      ]
     },
     "metadata": {
      "needs_background": "light"
     },
     "output_type": "display_data"
    }
   ],
   "source": [
    "plt.imshow(x_new[1]*255)"
   ]
  },
  {
   "cell_type": "code",
   "execution_count": 24,
   "metadata": {},
   "outputs": [
    {
     "data": {
      "text/plain": [
       "<matplotlib.image.AxesImage at 0x1f9dcfd39c8>"
      ]
     },
     "execution_count": 24,
     "metadata": {},
     "output_type": "execute_result"
    },
    {
     "data": {
      "image/png": "[encoded data removed]",
      "text/plain": [
       "<Figure size 432x288 with 1 Axes>"
      ]
     },
     "metadata": {
      "needs_background": "light"
     },
     "output_type": "display_data"
    }
   ],
   "source": [
    "plt.imshow(x_new[2]*255)"
   ]
  }
 ],
 "metadata": {
  "kernelspec": {
   "display_name": "Python 3",
   "language": "python",
   "name": "python3"
  },
  "language_info": {
   "codemirror_mode": {
    "name": "ipython",
    "version": 3
   },
   "file_extension": ".py",
   "mimetype": "text/x-python",
   "name": "python",
   "nbconvert_exporter": "python",
   "pygments_lexer": "ipython3",
   "version": "3.8.0"
  }
 },
 "nbformat": 4,
 "nbformat_minor": 4
}
