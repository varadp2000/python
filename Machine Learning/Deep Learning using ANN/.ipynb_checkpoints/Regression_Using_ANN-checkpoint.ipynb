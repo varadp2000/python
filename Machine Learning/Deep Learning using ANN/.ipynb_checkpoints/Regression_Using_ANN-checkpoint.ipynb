{
 "cells": [
  {
   "cell_type": "code",
   "execution_count": 1,
   "metadata": {},
   "outputs": [],
   "source": [
    "import numpy as np\n",
    "import pandas as pd\n",
    "%matplotlib inline\n",
    "import matplotlib as mpl\n",
    "import matplotlib.pyplot as plt\n",
    "import seaborn as sns"
   ]
  },
  {
   "cell_type": "code",
   "execution_count": 2,
   "metadata": {},
   "outputs": [],
   "source": [
    "import tensorflow as tf\n",
    "from tensorflow import keras"
   ]
  },
  {
   "cell_type": "code",
   "execution_count": 3,
   "metadata": {},
   "outputs": [],
   "source": [
    "from sklearn.datasets import fetch_california_housing\n",
    "housing = fetch_california_housing()"
   ]
  },
  {
   "cell_type": "code",
   "execution_count": 4,
   "metadata": {},
   "outputs": [
    {
     "data": {
      "text/plain": [
       "array([ 8.30140000e+00,  2.10000000e+01,  6.23813708e+00,  9.71880492e-01,\n",
       "        2.40100000e+03,  2.10984183e+00,  3.78600000e+01, -1.22220000e+02])"
      ]
     },
     "execution_count": 4,
     "metadata": {},
     "output_type": "execute_result"
    }
   ],
   "source": [
    "housing.data[1]"
   ]
  },
  {
   "cell_type": "markdown",
   "metadata": {},
   "source": [
    "Data Set Characteristics:\n",
    "Number of Instances:\n",
    "20640\n",
    "\n",
    "Number of Attributes:\n",
    "8 numeric, predictive attributes and the target\n",
    "\n",
    "Attribute Information:\n",
    "MedInc median income in block\n",
    "HouseAge median house age in block\n",
    "AveRooms average number of rooms\n",
    "AveBedrms average number of bedrooms\n",
    "Population block population\n",
    "AveOccup average house occupancy\n",
    "Latitude house block latitude\n",
    "Longitude house block longitude\n",
    "Target\n",
    "The target variable is the median house value in units of 100,000 for California districts.\n",
    "\n",
    "Documentation\n",
    "https://scikit-learn.org/stable/modules/generated/sklearn.datasets.fetch_california_housing.html#examples-using-sklearn-datasets-fetch-california-housing"
   ]
  },
  {
   "cell_type": "code",
   "execution_count": 5,
   "metadata": {},
   "outputs": [],
   "source": [
    "housedata=pd.DataFrame(housing.data,columns=(['MedInc median income in block',\n",
    "'HouseAge median house age in block',\n",
    "'AveRooms average number of rooms',\n",
    "'AveBedrms average number of bedrooms',\n",
    "'Population block population',\n",
    "'AveOccup average house occupancy',\n",
    "'Latitude house block latitude',\n",
    "'Longitude house block longitude']))"
   ]
  },
  {
   "cell_type": "code",
   "execution_count": 6,
   "metadata": {},
   "outputs": [
    {
     "data": {
      "text/html": [
       "<div>\n",
       "<style scoped>\n",
       "    .dataframe tbody tr th:only-of-type {\n",
       "        vertical-align: middle;\n",
       "    }\n",
       "\n",
       "    .dataframe tbody tr th {\n",
       "        vertical-align: top;\n",
       "    }\n",
       "\n",
       "    .dataframe thead th {\n",
       "        text-align: right;\n",
       "    }\n",
       "</style>\n",
       "<table border=\"1\" class=\"dataframe\">\n",
       "  <thead>\n",
       "    <tr style=\"text-align: right;\">\n",
       "      <th></th>\n",
       "      <th>MedInc median income in block</th>\n",
       "      <th>HouseAge median house age in block</th>\n",
       "      <th>AveRooms average number of rooms</th>\n",
       "      <th>AveBedrms average number of bedrooms</th>\n",
       "      <th>Population block population</th>\n",
       "      <th>AveOccup average house occupancy</th>\n",
       "      <th>Latitude house block latitude</th>\n",
       "      <th>Longitude house block longitude</th>\n",
       "      <th>price</th>\n",
       "    </tr>\n",
       "  </thead>\n",
       "  <tbody>\n",
       "    <tr>\n",
       "      <th>0</th>\n",
       "      <td>8.3252</td>\n",
       "      <td>41.0</td>\n",
       "      <td>6.984127</td>\n",
       "      <td>1.023810</td>\n",
       "      <td>322.0</td>\n",
       "      <td>2.555556</td>\n",
       "      <td>37.88</td>\n",
       "      <td>-122.23</td>\n",
       "      <td>4.526</td>\n",
       "    </tr>\n",
       "    <tr>\n",
       "      <th>1</th>\n",
       "      <td>8.3014</td>\n",
       "      <td>21.0</td>\n",
       "      <td>6.238137</td>\n",
       "      <td>0.971880</td>\n",
       "      <td>2401.0</td>\n",
       "      <td>2.109842</td>\n",
       "      <td>37.86</td>\n",
       "      <td>-122.22</td>\n",
       "      <td>3.585</td>\n",
       "    </tr>\n",
       "    <tr>\n",
       "      <th>2</th>\n",
       "      <td>7.2574</td>\n",
       "      <td>52.0</td>\n",
       "      <td>8.288136</td>\n",
       "      <td>1.073446</td>\n",
       "      <td>496.0</td>\n",
       "      <td>2.802260</td>\n",
       "      <td>37.85</td>\n",
       "      <td>-122.24</td>\n",
       "      <td>3.521</td>\n",
       "    </tr>\n",
       "    <tr>\n",
       "      <th>3</th>\n",
       "      <td>5.6431</td>\n",
       "      <td>52.0</td>\n",
       "      <td>5.817352</td>\n",
       "      <td>1.073059</td>\n",
       "      <td>558.0</td>\n",
       "      <td>2.547945</td>\n",
       "      <td>37.85</td>\n",
       "      <td>-122.25</td>\n",
       "      <td>3.413</td>\n",
       "    </tr>\n",
       "    <tr>\n",
       "      <th>4</th>\n",
       "      <td>3.8462</td>\n",
       "      <td>52.0</td>\n",
       "      <td>6.281853</td>\n",
       "      <td>1.081081</td>\n",
       "      <td>565.0</td>\n",
       "      <td>2.181467</td>\n",
       "      <td>37.85</td>\n",
       "      <td>-122.25</td>\n",
       "      <td>3.422</td>\n",
       "    </tr>\n",
       "  </tbody>\n",
       "</table>\n",
       "</div>"
      ],
      "text/plain": [
       "   MedInc median income in block  HouseAge median house age in block  \\\n",
       "0                         8.3252                                41.0   \n",
       "1                         8.3014                                21.0   \n",
       "2                         7.2574                                52.0   \n",
       "3                         5.6431                                52.0   \n",
       "4                         3.8462                                52.0   \n",
       "\n",
       "   AveRooms average number of rooms  AveBedrms average number of bedrooms  \\\n",
       "0                          6.984127                              1.023810   \n",
       "1                          6.238137                              0.971880   \n",
       "2                          8.288136                              1.073446   \n",
       "3                          5.817352                              1.073059   \n",
       "4                          6.281853                              1.081081   \n",
       "\n",
       "   Population block population  AveOccup average house occupancy  \\\n",
       "0                        322.0                          2.555556   \n",
       "1                       2401.0                          2.109842   \n",
       "2                        496.0                          2.802260   \n",
       "3                        558.0                          2.547945   \n",
       "4                        565.0                          2.181467   \n",
       "\n",
       "   Latitude house block latitude  Longitude house block longitude  price  \n",
       "0                          37.88                          -122.23  4.526  \n",
       "1                          37.86                          -122.22  3.585  \n",
       "2                          37.85                          -122.24  3.521  \n",
       "3                          37.85                          -122.25  3.413  \n",
       "4                          37.85                          -122.25  3.422  "
      ]
     },
     "execution_count": 6,
     "metadata": {},
     "output_type": "execute_result"
    }
   ],
   "source": [
    "housedata['price']=housing.target\n",
    "housedata.head(5)"
   ]
  },
  {
   "cell_type": "code",
   "execution_count": 7,
   "metadata": {},
   "outputs": [
    {
     "data": {
      "text/plain": [
       "<matplotlib.axes._subplots.AxesSubplot at 0x2886628eec8>"
      ]
     },
     "execution_count": 7,
     "metadata": {},
     "output_type": "execute_result"
    },
    {
     "data": {
      "image/png": "[encoded data removed]",
      "text/plain": [
       "<Figure size 432x288 with 2 Axes>"
      ]
     },
     "metadata": {
      "needs_background": "light"
     },
     "output_type": "display_data"
    }
   ],
   "source": [
    "sns.heatmap(housedata.drop(['Latitude house block latitude','Longitude house block longitude'],axis=1))"
   ]
  },
  {
   "cell_type": "code",
   "execution_count": 8,
   "metadata": {},
   "outputs": [
    {
     "data": {
      "text/plain": [
       "28.639486434108527"
      ]
     },
     "execution_count": 8,
     "metadata": {},
     "output_type": "execute_result"
    }
   ],
   "source": [
    "housedata['HouseAge median house age in block'].mean()"
   ]
  },
  {
   "cell_type": "code",
   "execution_count": 9,
   "metadata": {},
   "outputs": [],
   "source": [
    "from sklearn.model_selection import train_test_split\n",
    "x_train_full,x_test,y_train_full,y_test=train_test_split(housing.data,housing.target)\n",
    "x_train,x_valid,y_train,y_valid=train_test_split(x_train_full,y_train_full)"
   ]
  },
  {
   "cell_type": "code",
   "execution_count": 10,
   "metadata": {},
   "outputs": [],
   "source": [
    "from sklearn.preprocessing import StandardScaler\n",
    "scaler=StandardScaler()\n",
    "x_train=scaler.fit_transform(x_train)\n",
    "x_valid=scaler.transform(x_valid)\n",
    "x_test=scaler.transform(x_test)"
   ]
  },
  {
   "cell_type": "code",
   "execution_count": 11,
   "metadata": {},
   "outputs": [],
   "source": [
    "np.random.seed(42)\n",
    "tf.random.set_seed(42)"
   ]
  },
  {
   "cell_type": "code",
   "execution_count": 12,
   "metadata": {},
   "outputs": [
    {
     "data": {
      "text/plain": [
       "(11610, 8)"
      ]
     },
     "execution_count": 12,
     "metadata": {},
     "output_type": "execute_result"
    }
   ],
   "source": [
    "x_train.shape"
   ]
  },
  {
   "cell_type": "code",
   "execution_count": 13,
   "metadata": {},
   "outputs": [
    {
     "name": "stdout",
     "output_type": "stream",
     "text": [
      "Model: \"sequential\"\n",
      "_________________________________________________________________\n",
      "Layer (type)                 Output Shape              Param #   \n",
      "=================================================================\n",
      "dense (Dense)                (None, 50)                450       \n",
      "_________________________________________________________________\n",
      "dense_1 (Dense)              (None, 50)                2550      \n",
      "_________________________________________________________________\n",
      "dense_2 (Dense)              (None, 1)                 51        \n",
      "=================================================================\n",
      "Total params: 3,051\n",
      "Trainable params: 3,051\n",
      "Non-trainable params: 0\n",
      "_________________________________________________________________\n"
     ]
    }
   ],
   "source": [
    "model = keras.models.Sequential([\n",
    "    keras.layers.Dense(50, activation=\"relu\", input_shape=[8]),\n",
    "    keras.layers.Dense(50, activation=\"relu\"),\n",
    "    keras.layers.Dense(1)\n",
    "])\n",
    "model.summary()"
   ]
  },
  {
   "cell_type": "code",
   "execution_count": 14,
   "metadata": {},
   "outputs": [],
   "source": [
    "model.compile(loss=\"mean_squared_error\", \n",
    "              optimizer=keras.optimizers.SGD(lr=1e-3), \n",
    "              metrics=['mae'])"
   ]
  },
  {
   "cell_type": "code",
   "execution_count": 15,
   "metadata": {},
   "outputs": [
    {
     "name": "stdout",
     "output_type": "stream",
     "text": [
      "Train on 11610 samples, validate on 3870 samples\n",
      "Epoch 1/50\n",
      "11610/11610 [==============================] - 2s 156us/sample - loss: 1.9208 - mae: 1.0120 - val_loss: 1.1218 - val_mae: 0.7219\n",
      "Epoch 2/50\n",
      "11610/11610 [==============================] - 1s 101us/sample - loss: 1.0342 - mae: 0.6764 - val_loss: 0.7127 - val_mae: 0.6293\n",
      "Epoch 3/50\n",
      "11610/11610 [==============================] - 1s 103us/sample - loss: 0.6968 - mae: 0.6175 - val_loss: 0.6549 - val_mae: 0.5983\n",
      "Epoch 4/50\n",
      "11610/11610 [==============================] - 1s 101us/sample - loss: 0.6475 - mae: 0.5922 - val_loss: 0.6181 - val_mae: 0.5789\n",
      "Epoch 5/50\n",
      "11610/11610 [==============================] - 1s 100us/sample - loss: 0.6123 - mae: 0.5739 - val_loss: 0.5868 - val_mae: 0.5614\n",
      "Epoch 6/50\n",
      "11610/11610 [==============================] - 1s 110us/sample - loss: 0.5827 - mae: 0.5570 - val_loss: 0.5617 - val_mae: 0.5509\n",
      "Epoch 7/50\n",
      "11610/11610 [==============================] - 1s 99us/sample - loss: 0.5583 - mae: 0.5454 - val_loss: 0.5408 - val_mae: 0.5383\n",
      "Epoch 8/50\n",
      "11610/11610 [==============================] - 1s 117us/sample - loss: 0.5386 - mae: 0.5337 - val_loss: 0.5252 - val_mae: 0.5332\n",
      "Epoch 9/50\n",
      "11610/11610 [==============================] - 1s 109us/sample - loss: 0.5225 - mae: 0.5251 - val_loss: 0.5115 - val_mae: 0.5242\n",
      "Epoch 10/50\n",
      "11610/11610 [==============================] - 1s 107us/sample - loss: 0.5095 - mae: 0.5172 - val_loss: 0.5016 - val_mae: 0.5215\n",
      "Epoch 11/50\n",
      "11610/11610 [==============================] - 1s 105us/sample - loss: 0.4990 - mae: 0.5120 - val_loss: 0.4929 - val_mae: 0.5127\n",
      "Epoch 12/50\n",
      "11610/11610 [==============================] - 1s 104us/sample - loss: 0.4905 - mae: 0.5063 - val_loss: 0.4863 - val_mae: 0.5142\n",
      "Epoch 13/50\n",
      "11610/11610 [==============================] - 1s 91us/sample - loss: 0.4829 - mae: 0.5025 - val_loss: 0.4797 - val_mae: 0.5101\n",
      "Epoch 14/50\n",
      "11610/11610 [==============================] - 1s 93us/sample - loss: 0.4766 - mae: 0.4985 - val_loss: 0.4768 - val_mae: 0.5114\n",
      "Epoch 15/50\n",
      "11610/11610 [==============================] - 1s 98us/sample - loss: 0.4715 - mae: 0.4963 - val_loss: 0.4697 - val_mae: 0.5035\n",
      "Epoch 16/50\n",
      "11610/11610 [==============================] - 1s 101us/sample - loss: 0.4664 - mae: 0.4928 - val_loss: 0.4659 - val_mae: 0.4966\n",
      "Epoch 17/50\n",
      "11610/11610 [==============================] - 1s 101us/sample - loss: 0.4623 - mae: 0.4896 - val_loss: 0.4615 - val_mae: 0.4975\n",
      "Epoch 18/50\n",
      "11610/11610 [==============================] - 1s 104us/sample - loss: 0.4574 - mae: 0.4877 - val_loss: 0.4577 - val_mae: 0.4928\n",
      "Epoch 19/50\n",
      "11610/11610 [==============================] - 1s 102us/sample - loss: 0.4539 - mae: 0.4850 - val_loss: 0.4541 - val_mae: 0.4902\n",
      "Epoch 20/50\n",
      "11610/11610 [==============================] - 1s 99us/sample - loss: 0.4508 - mae: 0.4819 - val_loss: 0.4526 - val_mae: 0.4913\n",
      "Epoch 21/50\n",
      "11610/11610 [==============================] - 1s 102us/sample - loss: 0.4474 - mae: 0.4807 - val_loss: 0.4475 - val_mae: 0.4858\n",
      "Epoch 22/50\n",
      "11610/11610 [==============================] - 1s 101us/sample - loss: 0.4444 - mae: 0.4787 - val_loss: 0.4456 - val_mae: 0.4847\n",
      "Epoch 23/50\n",
      "11610/11610 [==============================] - 1s 92us/sample - loss: 0.4414 - mae: 0.4765 - val_loss: 0.4431 - val_mae: 0.4835\n",
      "Epoch 24/50\n",
      "11610/11610 [==============================] - 1s 101us/sample - loss: 0.4387 - mae: 0.4752 - val_loss: 0.4401 - val_mae: 0.4798\n",
      "Epoch 25/50\n",
      "11610/11610 [==============================] - 1s 102us/sample - loss: 0.4358 - mae: 0.4732 - val_loss: 0.4380 - val_mae: 0.4797\n",
      "Epoch 26/50\n",
      "11610/11610 [==============================] - 1s 100us/sample - loss: 0.4333 - mae: 0.4714 - val_loss: 0.4357 - val_mae: 0.4785\n",
      "Epoch 27/50\n",
      "11610/11610 [==============================] - 1s 103us/sample - loss: 0.4308 - mae: 0.4702 - val_loss: 0.4334 - val_mae: 0.4761\n",
      "Epoch 28/50\n",
      "11610/11610 [==============================] - 1s 103us/sample - loss: 0.4289 - mae: 0.4678 - val_loss: 0.4341 - val_mae: 0.4820\n",
      "Epoch 29/50\n",
      "11610/11610 [==============================] - 1s 102us/sample - loss: 0.4270 - mae: 0.4673 - val_loss: 0.4291 - val_mae: 0.4749\n",
      "Epoch 30/50\n",
      "11610/11610 [==============================] - 1s 100us/sample - loss: 0.4247 - mae: 0.4659 - val_loss: 0.4270 - val_mae: 0.4723\n",
      "Epoch 31/50\n",
      "11610/11610 [==============================] - 1s 101us/sample - loss: 0.4220 - mae: 0.4648 - val_loss: 0.4242 - val_mae: 0.4675\n",
      "Epoch 32/50\n",
      "11610/11610 [==============================] - 1s 102us/sample - loss: 0.4203 - mae: 0.4622 - val_loss: 0.4245 - val_mae: 0.4736\n",
      "Epoch 33/50\n",
      "11610/11610 [==============================] - 1s 109us/sample - loss: 0.4187 - mae: 0.4623 - val_loss: 0.4218 - val_mae: 0.4688\n",
      "Epoch 34/50\n",
      "11610/11610 [==============================] - 1s 102us/sample - loss: 0.4163 - mae: 0.4602 - val_loss: 0.4190 - val_mae: 0.4651\n",
      "Epoch 35/50\n",
      "11610/11610 [==============================] - 1s 99us/sample - loss: 0.4148 - mae: 0.4587 - val_loss: 0.4191 - val_mae: 0.4704\n",
      "Epoch 36/50\n",
      "11610/11610 [==============================] - 1s 100us/sample - loss: 0.4127 - mae: 0.4587 - val_loss: 0.4159 - val_mae: 0.4632\n",
      "Epoch 37/50\n",
      "11610/11610 [==============================] - 1s 98us/sample - loss: 0.4112 - mae: 0.4564 - val_loss: 0.4148 - val_mae: 0.4633\n",
      "Epoch 38/50\n",
      "11610/11610 [==============================] - 1s 100us/sample - loss: 0.4092 - mae: 0.4558 - val_loss: 0.4151 - val_mae: 0.4664\n",
      "Epoch 39/50\n",
      "11610/11610 [==============================] - 1s 99us/sample - loss: 0.4078 - mae: 0.4550 - val_loss: 0.4117 - val_mae: 0.4588\n",
      "Epoch 40/50\n",
      "11610/11610 [==============================] - 1s 98us/sample - loss: 0.4064 - mae: 0.4540 - val_loss: 0.4107 - val_mae: 0.4600\n",
      "Epoch 41/50\n",
      "11610/11610 [==============================] - 1s 99us/sample - loss: 0.4050 - mae: 0.4524 - val_loss: 0.4099 - val_mae: 0.4639\n",
      "Epoch 42/50\n",
      "11610/11610 [==============================] - 1s 97us/sample - loss: 0.4036 - mae: 0.4525 - val_loss: 0.4074 - val_mae: 0.4599\n",
      "Epoch 43/50\n",
      "11610/11610 [==============================] - 1s 98us/sample - loss: 0.4022 - mae: 0.4508 - val_loss: 0.4075 - val_mae: 0.4629\n",
      "Epoch 44/50\n",
      "11610/11610 [==============================] - 1s 99us/sample - loss: 0.4008 - mae: 0.4507 - val_loss: 0.4053 - val_mae: 0.4547\n",
      "Epoch 45/50\n",
      "11610/11610 [==============================] - 1s 96us/sample - loss: 0.4000 - mae: 0.4494 - val_loss: 0.4037 - val_mae: 0.4569\n",
      "Epoch 46/50\n",
      "11610/11610 [==============================] - 1s 101us/sample - loss: 0.3981 - mae: 0.4483 - val_loss: 0.4026 - val_mae: 0.4570\n",
      "Epoch 47/50\n",
      "11610/11610 [==============================] - 1s 101us/sample - loss: 0.3967 - mae: 0.4477 - val_loss: 0.4020 - val_mae: 0.4576\n",
      "Epoch 48/50\n",
      "11610/11610 [==============================] - 1s 99us/sample - loss: 0.3954 - mae: 0.4469 - val_loss: 0.4014 - val_mae: 0.4574\n",
      "Epoch 49/50\n",
      "11610/11610 [==============================] - 1s 96us/sample - loss: 0.3944 - mae: 0.4464 - val_loss: 0.3996 - val_mae: 0.4557\n",
      "Epoch 50/50\n",
      "11610/11610 [==============================] - 1s 101us/sample - loss: 0.3935 - mae: 0.4456 - val_loss: 0.3977 - val_mae: 0.4503\n"
     ]
    }
   ],
   "source": [
    "model_history = model.fit(x_train, y_train, epochs=50, validation_data=(x_valid, y_valid))"
   ]
  },
  {
   "cell_type": "code",
   "execution_count": 16,
   "metadata": {},
   "outputs": [
    {
     "name": "stdout",
     "output_type": "stream",
     "text": [
      "5160/5160 [==============================] - 0s 55us/sample - loss: 0.3920 - mae: 0.4387\n"
     ]
    }
   ],
   "source": [
    "y=model.evaluate(x_test,y_test)"
   ]
  },
  {
   "cell_type": "code",
   "execution_count": 17,
   "metadata": {},
   "outputs": [
    {
     "data": {
      "image/png": "[encoded data removed]",
      "text/plain": [
       "<Figure size 576x360 with 1 Axes>"
      ]
     },
     "metadata": {
      "needs_background": "light"
     },
     "output_type": "display_data"
    }
   ],
   "source": [
    "pd.DataFrame(model_history.history).plot(figsize=(8, 5))\n",
    "plt.grid(True)\n",
    "plt.gca().set_ylim(0, 1)\n",
    "\n",
    "plt.show()"
   ]
  },
  {
   "cell_type": "code",
   "execution_count": 18,
   "metadata": {},
   "outputs": [],
   "source": [
    "x_n=x_test[:3]\n",
    "y_pred=model.predict(x_test)"
   ]
  },
  {
   "cell_type": "code",
   "execution_count": 19,
   "metadata": {},
   "outputs": [],
   "source": [
    "y_pred=np.array(y_pred)"
   ]
  },
  {
   "cell_type": "code",
   "execution_count": 20,
   "metadata": {},
   "outputs": [],
   "source": [
    "y_pred=np.array(y_pred).reshape(5160,)"
   ]
  },
  {
   "cell_type": "code",
   "execution_count": 21,
   "metadata": {},
   "outputs": [
    {
     "data": {
      "text/plain": [
       "<matplotlib.axes._subplots.AxesSubplot at 0x2886fd95588>"
      ]
     },
     "execution_count": 21,
     "metadata": {},
     "output_type": "execute_result"
    },
    {
     "data": {
      "image/png": "[encoded data removed]",
      "text/plain": [
       "<Figure size 432x288 with 1 Axes>"
      ]
     },
     "metadata": {
      "needs_background": "light"
     },
     "output_type": "display_data"
    }
   ],
   "source": [
    "sns.distplot((y_test-y_pred)*(y_test-y_pred))"
   ]
  },
  {
   "cell_type": "code",
   "execution_count": null,
   "metadata": {},
   "outputs": [],
   "source": []
  },
  {
   "cell_type": "code",
   "execution_count": null,
   "metadata": {},
   "outputs": [],
   "source": []
  }
 ],
 "metadata": {
  "kernelspec": {
   "display_name": "Python 3",
   "language": "python",
   "name": "python3"
  },
  "language_info": {
   "codemirror_mode": {
    "name": "ipython",
    "version": 3
   },
   "file_extension": ".py",
   "mimetype": "text/x-python",
   "name": "python",
   "nbconvert_exporter": "python",
   "pygments_lexer": "ipython3",
   "version": "3.7.6"
  }
 },
 "nbformat": 4,
 "nbformat_minor": 4
}
