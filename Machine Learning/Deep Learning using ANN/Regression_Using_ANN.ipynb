{
 "cells": [
  {
   "cell_type": "code",
   "execution_count": 1,
   "metadata": {},
   "outputs": [],
   "source": [
    "import numpy as np\n",
    "import pandas as pd\n",
    "%matplotlib inline\n",
    "import matplotlib as mpl\n",
    "import matplotlib.pyplot as plt\n",
    "import seaborn as sns"
   ]
  },
  {
   "cell_type": "code",
   "execution_count": 2,
   "metadata": {},
   "outputs": [],
   "source": [
    "import tensorflow as tf\n",
    "from tensorflow import keras"
   ]
  },
  {
   "cell_type": "code",
   "execution_count": 3,
   "metadata": {},
   "outputs": [],
   "source": [
    "from sklearn.datasets import fetch_california_housing\n",
    "housing = fetch_california_housing()"
   ]
  },
  {
   "cell_type": "code",
   "execution_count": 4,
   "metadata": {},
   "outputs": [
    {
     "data": {
      "text/plain": [
       "array([ 8.30140000e+00,  2.10000000e+01,  6.23813708e+00,  9.71880492e-01,\n",
       "        2.40100000e+03,  2.10984183e+00,  3.78600000e+01, -1.22220000e+02])"
      ]
     },
     "execution_count": 4,
     "metadata": {},
     "output_type": "execute_result"
    }
   ],
   "source": [
    "housing.data[1]"
   ]
  },
  {
   "cell_type": "markdown",
   "metadata": {},
   "source": [
    "Data Set Characteristics:\n",
    "Number of Instances:\n",
    "20640\n",
    "\n",
    "Number of Attributes:\n",
    "8 numeric, predictive attributes and the target\n",
    "\n",
    "Attribute Information:\n",
    "MedInc median income in block\n",
    "HouseAge median house age in block\n",
    "AveRooms average number of rooms\n",
    "AveBedrms average number of bedrooms\n",
    "Population block population\n",
    "AveOccup average house occupancy\n",
    "Latitude house block latitude\n",
    "Longitude house block longitude\n",
    "Target\n",
    "The target variable is the median house value in units of 100,000 for California districts.\n",
    "\n",
    "Documentation\n",
    "https://scikit-learn.org/stable/modules/generated/sklearn.datasets.fetch_california_housing.html#examples-using-sklearn-datasets-fetch-california-housing"
   ]
  },
  {
   "cell_type": "code",
   "execution_count": 5,
   "metadata": {},
   "outputs": [],
   "source": [
    "housedata=pd.DataFrame(housing.data,columns=(['MedInc median income in block',\n",
    "'HouseAge median house age in block',\n",
    "'AveRooms average number of rooms',\n",
    "'AveBedrms average number of bedrooms',\n",
    "'Population block population',\n",
    "'AveOccup average house occupancy',\n",
    "'Latitude house block latitude',\n",
    "'Longitude house block longitude']))"
   ]
  },
  {
   "cell_type": "code",
   "execution_count": 6,
   "metadata": {},
   "outputs": [
    {
     "data": {
      "text/html": [
       "<div>\n",
       "<style scoped>\n",
       "    .dataframe tbody tr th:only-of-type {\n",
       "        vertical-align: middle;\n",
       "    }\n",
       "\n",
       "    .dataframe tbody tr th {\n",
       "        vertical-align: top;\n",
       "    }\n",
       "\n",
       "    .dataframe thead th {\n",
       "        text-align: right;\n",
       "    }\n",
       "</style>\n",
       "<table border=\"1\" class=\"dataframe\">\n",
       "  <thead>\n",
       "    <tr style=\"text-align: right;\">\n",
       "      <th></th>\n",
       "      <th>MedInc median income in block</th>\n",
       "      <th>HouseAge median house age in block</th>\n",
       "      <th>AveRooms average number of rooms</th>\n",
       "      <th>AveBedrms average number of bedrooms</th>\n",
       "      <th>Population block population</th>\n",
       "      <th>AveOccup average house occupancy</th>\n",
       "      <th>Latitude house block latitude</th>\n",
       "      <th>Longitude house block longitude</th>\n",
       "      <th>price</th>\n",
       "    </tr>\n",
       "  </thead>\n",
       "  <tbody>\n",
       "    <tr>\n",
       "      <th>0</th>\n",
       "      <td>8.3252</td>\n",
       "      <td>41.0</td>\n",
       "      <td>6.984127</td>\n",
       "      <td>1.023810</td>\n",
       "      <td>322.0</td>\n",
       "      <td>2.555556</td>\n",
       "      <td>37.88</td>\n",
       "      <td>-122.23</td>\n",
       "      <td>4.526</td>\n",
       "    </tr>\n",
       "    <tr>\n",
       "      <th>1</th>\n",
       "      <td>8.3014</td>\n",
       "      <td>21.0</td>\n",
       "      <td>6.238137</td>\n",
       "      <td>0.971880</td>\n",
       "      <td>2401.0</td>\n",
       "      <td>2.109842</td>\n",
       "      <td>37.86</td>\n",
       "      <td>-122.22</td>\n",
       "      <td>3.585</td>\n",
       "    </tr>\n",
       "    <tr>\n",
       "      <th>2</th>\n",
       "      <td>7.2574</td>\n",
       "      <td>52.0</td>\n",
       "      <td>8.288136</td>\n",
       "      <td>1.073446</td>\n",
       "      <td>496.0</td>\n",
       "      <td>2.802260</td>\n",
       "      <td>37.85</td>\n",
       "      <td>-122.24</td>\n",
       "      <td>3.521</td>\n",
       "    </tr>\n",
       "    <tr>\n",
       "      <th>3</th>\n",
       "      <td>5.6431</td>\n",
       "      <td>52.0</td>\n",
       "      <td>5.817352</td>\n",
       "      <td>1.073059</td>\n",
       "      <td>558.0</td>\n",
       "      <td>2.547945</td>\n",
       "      <td>37.85</td>\n",
       "      <td>-122.25</td>\n",
       "      <td>3.413</td>\n",
       "    </tr>\n",
       "    <tr>\n",
       "      <th>4</th>\n",
       "      <td>3.8462</td>\n",
       "      <td>52.0</td>\n",
       "      <td>6.281853</td>\n",
       "      <td>1.081081</td>\n",
       "      <td>565.0</td>\n",
       "      <td>2.181467</td>\n",
       "      <td>37.85</td>\n",
       "      <td>-122.25</td>\n",
       "      <td>3.422</td>\n",
       "    </tr>\n",
       "  </tbody>\n",
       "</table>\n",
       "</div>"
      ],
      "text/plain": [
       "   MedInc median income in block  HouseAge median house age in block  \\\n",
       "0                         8.3252                                41.0   \n",
       "1                         8.3014                                21.0   \n",
       "2                         7.2574                                52.0   \n",
       "3                         5.6431                                52.0   \n",
       "4                         3.8462                                52.0   \n",
       "\n",
       "   AveRooms average number of rooms  AveBedrms average number of bedrooms  \\\n",
       "0                          6.984127                              1.023810   \n",
       "1                          6.238137                              0.971880   \n",
       "2                          8.288136                              1.073446   \n",
       "3                          5.817352                              1.073059   \n",
       "4                          6.281853                              1.081081   \n",
       "\n",
       "   Population block population  AveOccup average house occupancy  \\\n",
       "0                        322.0                          2.555556   \n",
       "1                       2401.0                          2.109842   \n",
       "2                        496.0                          2.802260   \n",
       "3                        558.0                          2.547945   \n",
       "4                        565.0                          2.181467   \n",
       "\n",
       "   Latitude house block latitude  Longitude house block longitude  price  \n",
       "0                          37.88                          -122.23  4.526  \n",
       "1                          37.86                          -122.22  3.585  \n",
       "2                          37.85                          -122.24  3.521  \n",
       "3                          37.85                          -122.25  3.413  \n",
       "4                          37.85                          -122.25  3.422  "
      ]
     },
     "execution_count": 6,
     "metadata": {},
     "output_type": "execute_result"
    }
   ],
   "source": [
    "housedata['price']=housing.target\n",
    "housedata.head(5)"
   ]
  },
  {
   "cell_type": "code",
   "execution_count": 7,
   "metadata": {},
   "outputs": [
    {
     "data": {
      "text/plain": [
       "<matplotlib.axes._subplots.AxesSubplot at 0x28d8090a488>"
      ]
     },
     "execution_count": 7,
     "metadata": {},
     "output_type": "execute_result"
    },
    {
     "data": {
      "image/png": "[encoded data removed]",
      "text/plain": [
       "<Figure size 432x288 with 2 Axes>"
      ]
     },
     "metadata": {
      "needs_background": "light"
     },
     "output_type": "display_data"
    }
   ],
   "source": [
    "sns.heatmap(housedata.drop(['Latitude house block latitude','Longitude house block longitude'],axis=1))"
   ]
  },
  {
   "cell_type": "code",
   "execution_count": 8,
   "metadata": {},
   "outputs": [
    {
     "data": {
      "text/plain": [
       "28.639486434108527"
      ]
     },
     "execution_count": 8,
     "metadata": {},
     "output_type": "execute_result"
    }
   ],
   "source": [
    "housedata['HouseAge median house age in block'].mean()"
   ]
  },
  {
   "cell_type": "code",
   "execution_count": 14,
   "metadata": {},
   "outputs": [],
   "source": [
    "from sklearn.model_selection import train_test_split\n",
    "x_train_full,x_test,y_train_full,y_test=train_test_split(housing.data,housing.target)\n",
    "x_train,x_valid,y_train,y_valid=train_test_split(x_train_full,y_train_full)"
   ]
  },
  {
   "cell_type": "code",
   "execution_count": 17,
   "metadata": {},
   "outputs": [],
   "source": [
    "from sklearn.preprocessing import StandardScaler\n",
    "scaler=StandardScaler()\n",
    "x_train=scaler.fit_transform(x_train)\n",
    "x_valid=scaler.transform(x_valid)\n",
    "x_test=scaler.transform(x_test)"
   ]
  },
  {
   "cell_type": "code",
   "execution_count": 20,
   "metadata": {},
   "outputs": [],
   "source": [
    "np.random.seed(42)\n",
    "tf.random.set_seed(42)"
   ]
  },
  {
   "cell_type": "code",
   "execution_count": 23,
   "metadata": {},
   "outputs": [
    {
     "data": {
      "text/plain": [
       "(8,)"
      ]
     },
     "execution_count": 23,
     "metadata": {},
     "output_type": "execute_result"
    }
   ],
   "source": [
    "x_train.shape"
   ]
  },
  {
   "cell_type": "code",
   "execution_count": 71,
   "metadata": {},
   "outputs": [
    {
     "name": "stdout",
     "output_type": "stream",
     "text": [
      "Model: \"sequential_4\"\n",
      "_________________________________________________________________\n",
      "Layer (type)                 Output Shape              Param #   \n",
      "=================================================================\n",
      "dense_14 (Dense)             (None, 50)                450       \n",
      "_________________________________________________________________\n",
      "dense_15 (Dense)             (None, 50)                2550      \n",
      "_________________________________________________________________\n",
      "dense_16 (Dense)             (None, 1)                 51        \n",
      "=================================================================\n",
      "Total params: 3,051\n",
      "Trainable params: 3,051\n",
      "Non-trainable params: 0\n",
      "_________________________________________________________________\n"
     ]
    }
   ],
   "source": [
    "model = keras.models.Sequential([\n",
    "    keras.layers.Dense(50, activation=\"relu\", input_shape=[8]),\n",
    "    keras.layers.Dense(50, activation=\"relu\"),\n",
    "    keras.layers.Dense(1)\n",
    "])\n",
    "model.summary()"
   ]
  },
  {
   "cell_type": "code",
   "execution_count": 72,
   "metadata": {},
   "outputs": [],
   "source": [
    "model.compile(loss=\"mean_squared_error\", \n",
    "              optimizer=keras.optimizers.SGD(lr=1e-3), \n",
    "              metrics=['mae'])"
   ]
  },
  {
   "cell_type": "code",
   "execution_count": 73,
   "metadata": {},
   "outputs": [
    {
     "name": "stdout",
     "output_type": "stream",
     "text": [
      "Train on 11610 samples, validate on 3870 samples\n",
      "Epoch 1/50\n",
      "11610/11610 [==============================] - 2s 141us/sample - loss: 2.1752 - mae: 1.0883 - val_loss: 0.9817 - val_mae: 0.7670\n",
      "Epoch 2/50\n",
      "11610/11610 [==============================] - 1s 98us/sample - loss: 0.8719 - mae: 0.6916 - val_loss: 0.6636 - val_mae: 0.6200\n",
      "Epoch 3/50\n",
      "11610/11610 [==============================] - 1s 99us/sample - loss: 0.6656 - mae: 0.6072 - val_loss: 0.6033 - val_mae: 0.5776\n",
      "Epoch 4/50\n",
      "11610/11610 [==============================] - 1s 100us/sample - loss: 0.6181 - mae: 0.5777 - val_loss: 0.5695 - val_mae: 0.5532\n",
      "Epoch 5/50\n",
      "11610/11610 [==============================] - 1s 99us/sample - loss: 0.5850 - mae: 0.5580 - val_loss: 0.5424 - val_mae: 0.5405\n",
      "Epoch 6/50\n",
      "11610/11610 [==============================] - 1s 98us/sample - loss: 0.5559 - mae: 0.5422 - val_loss: 0.5190 - val_mae: 0.5283\n",
      "Epoch 7/50\n",
      "11610/11610 [==============================] - 1s 99us/sample - loss: 0.5325 - mae: 0.5302 - val_loss: 0.4981 - val_mae: 0.5132\n",
      "Epoch 8/50\n",
      "11610/11610 [==============================] - 1s 100us/sample - loss: 0.5131 - mae: 0.5181 - val_loss: 0.4831 - val_mae: 0.5067\n",
      "Epoch 9/50\n",
      "11610/11610 [==============================] - 1s 100us/sample - loss: 0.4972 - mae: 0.5098 - val_loss: 0.4680 - val_mae: 0.4923\n",
      "Epoch 10/50\n",
      "11610/11610 [==============================] - 1s 99us/sample - loss: 0.4831 - mae: 0.5009 - val_loss: 0.4556 - val_mae: 0.4842\n",
      "Epoch 11/50\n",
      "11610/11610 [==============================] - 1s 102us/sample - loss: 0.4714 - mae: 0.4932 - val_loss: 0.4472 - val_mae: 0.4836\n",
      "Epoch 12/50\n",
      "11610/11610 [==============================] - 1s 98us/sample - loss: 0.4614 - mae: 0.4885 - val_loss: 0.4367 - val_mae: 0.4722\n",
      "Epoch 13/50\n",
      "11610/11610 [==============================] - 1s 101us/sample - loss: 0.4523 - mae: 0.4833 - val_loss: 0.4286 - val_mae: 0.4634\n",
      "Epoch 14/50\n",
      "11610/11610 [==============================] - 1s 100us/sample - loss: 0.4447 - mae: 0.4771 - val_loss: 0.4230 - val_mae: 0.4651\n",
      "Epoch 15/50\n",
      "11610/11610 [==============================] - 1s 99us/sample - loss: 0.4379 - mae: 0.4745 - val_loss: 0.4167 - val_mae: 0.4585\n",
      "Epoch 16/50\n",
      "11610/11610 [==============================] - 1s 99us/sample - loss: 0.4322 - mae: 0.4702 - val_loss: 0.4108 - val_mae: 0.4568\n",
      "Epoch 17/50\n",
      "11610/11610 [==============================] - 1s 99us/sample - loss: 0.4270 - mae: 0.4674 - val_loss: 0.4071 - val_mae: 0.4564\n",
      "Epoch 18/50\n",
      "11610/11610 [==============================] - 1s 100us/sample - loss: 0.4223 - mae: 0.4647 - val_loss: 0.4037 - val_mae: 0.4563\n",
      "Epoch 19/50\n",
      "11610/11610 [==============================] - 1s 100us/sample - loss: 0.4183 - mae: 0.4630 - val_loss: 0.3992 - val_mae: 0.4499\n",
      "Epoch 20/50\n",
      "11610/11610 [==============================] - 1s 94us/sample - loss: 0.4145 - mae: 0.4598 - val_loss: 0.3968 - val_mae: 0.4483\n",
      "Epoch 21/50\n",
      "11610/11610 [==============================] - 1s 102us/sample - loss: 0.4111 - mae: 0.4582 - val_loss: 0.3928 - val_mae: 0.4453\n",
      "Epoch 22/50\n",
      "11610/11610 [==============================] - 1s 102us/sample - loss: 0.4079 - mae: 0.4555 - val_loss: 0.3911 - val_mae: 0.4469\n",
      "Epoch 23/50\n",
      "11610/11610 [==============================] - 1s 107us/sample - loss: 0.4051 - mae: 0.4547 - val_loss: 0.3872 - val_mae: 0.4435\n",
      "Epoch 24/50\n",
      "11610/11610 [==============================] - 1s 99us/sample - loss: 0.4026 - mae: 0.4529 - val_loss: 0.3846 - val_mae: 0.4410\n",
      "Epoch 25/50\n",
      "11610/11610 [==============================] - 1s 99us/sample - loss: 0.3998 - mae: 0.4514 - val_loss: 0.3827 - val_mae: 0.4350\n",
      "Epoch 26/50\n",
      "11610/11610 [==============================] - 1s 98us/sample - loss: 0.3979 - mae: 0.4492 - val_loss: 0.3800 - val_mae: 0.4373\n",
      "Epoch 27/50\n",
      "11610/11610 [==============================] - 1s 110us/sample - loss: 0.3956 - mae: 0.4483 - val_loss: 0.3784 - val_mae: 0.4387\n",
      "Epoch 28/50\n",
      "11610/11610 [==============================] - 1s 110us/sample - loss: 0.3938 - mae: 0.4474 - val_loss: 0.3765 - val_mae: 0.4350\n",
      "Epoch 29/50\n",
      "11610/11610 [==============================] - 1s 112us/sample - loss: 0.3915 - mae: 0.4454 - val_loss: 0.3755 - val_mae: 0.4388\n",
      "Epoch 30/50\n",
      "11610/11610 [==============================] - 1s 124us/sample - loss: 0.3900 - mae: 0.4456 - val_loss: 0.3739 - val_mae: 0.4330\n",
      "Epoch 31/50\n",
      "11610/11610 [==============================] - 1s 123us/sample - loss: 0.3884 - mae: 0.4437 - val_loss: 0.3721 - val_mae: 0.4359\n",
      "Epoch 32/50\n",
      "11610/11610 [==============================] - 1s 114us/sample - loss: 0.3867 - mae: 0.4434 - val_loss: 0.3702 - val_mae: 0.4318\n",
      "Epoch 33/50\n",
      "11610/11610 [==============================] - 1s 107us/sample - loss: 0.3853 - mae: 0.4417 - val_loss: 0.3691 - val_mae: 0.4335\n",
      "Epoch 34/50\n",
      "11610/11610 [==============================] - 1s 110us/sample - loss: 0.3837 - mae: 0.4412 - val_loss: 0.3671 - val_mae: 0.4302\n",
      "Epoch 35/50\n",
      "11610/11610 [==============================] - 1s 111us/sample - loss: 0.3821 - mae: 0.4399 - val_loss: 0.3661 - val_mae: 0.4317\n",
      "Epoch 36/50\n",
      "11610/11610 [==============================] - 1s 100us/sample - loss: 0.3808 - mae: 0.4397 - val_loss: 0.3643 - val_mae: 0.4289\n",
      "Epoch 37/50\n",
      "11610/11610 [==============================] - 1s 99us/sample - loss: 0.3795 - mae: 0.4378 - val_loss: 0.3649 - val_mae: 0.4333\n",
      "Epoch 38/50\n",
      "11610/11610 [==============================] - 1s 98us/sample - loss: 0.3781 - mae: 0.4376 - val_loss: 0.3629 - val_mae: 0.4297\n",
      "Epoch 39/50\n",
      "11610/11610 [==============================] - 1s 97us/sample - loss: 0.3769 - mae: 0.4370 - val_loss: 0.3624 - val_mae: 0.4310\n",
      "Epoch 40/50\n",
      "11610/11610 [==============================] - 1s 98us/sample - loss: 0.3758 - mae: 0.4368 - val_loss: 0.3595 - val_mae: 0.4245\n",
      "Epoch 41/50\n",
      "11610/11610 [==============================] - 1s 98us/sample - loss: 0.3746 - mae: 0.4357 - val_loss: 0.3588 - val_mae: 0.4251\n",
      "Epoch 42/50\n",
      "11610/11610 [==============================] - 1s 94us/sample - loss: 0.3736 - mae: 0.4349 - val_loss: 0.3582 - val_mae: 0.4259\n",
      "Epoch 43/50\n",
      "11610/11610 [==============================] - 1s 92us/sample - loss: 0.3725 - mae: 0.4339 - val_loss: 0.3571 - val_mae: 0.4267\n",
      "Epoch 44/50\n",
      "11610/11610 [==============================] - 1s 98us/sample - loss: 0.3715 - mae: 0.4338 - val_loss: 0.3559 - val_mae: 0.4228\n",
      "Epoch 45/50\n",
      "11610/11610 [==============================] - 1s 99us/sample - loss: 0.3704 - mae: 0.4328 - val_loss: 0.3547 - val_mae: 0.4228\n",
      "Epoch 46/50\n",
      "11610/11610 [==============================] - 1s 97us/sample - loss: 0.3693 - mae: 0.4319 - val_loss: 0.3548 - val_mae: 0.4261\n",
      "Epoch 47/50\n",
      "11610/11610 [==============================] - 1s 96us/sample - loss: 0.3679 - mae: 0.4316 - val_loss: 0.3527 - val_mae: 0.4205\n",
      "Epoch 48/50\n",
      "11610/11610 [==============================] - 1s 98us/sample - loss: 0.3670 - mae: 0.4302 - val_loss: 0.3537 - val_mae: 0.4262\n",
      "Epoch 49/50\n",
      "11610/11610 [==============================] - 1s 94us/sample - loss: 0.3663 - mae: 0.4303 - val_loss: 0.3514 - val_mae: 0.4219\n",
      "Epoch 50/50\n",
      "11610/11610 [==============================] - 1s 98us/sample - loss: 0.3651 - mae: 0.4297 - val_loss: 0.3504 - val_mae: 0.4202\n"
     ]
    }
   ],
   "source": [
    "model_history = model.fit(x_train, y_train, epochs=50, validation_data=(x_valid, y_valid))"
   ]
  },
  {
   "cell_type": "code",
   "execution_count": 74,
   "metadata": {},
   "outputs": [
    {
     "name": "stdout",
     "output_type": "stream",
     "text": [
      "5160/5160 [==============================] - 0s 53us/sample - loss: 0.3903 - mae: 0.4389\n"
     ]
    }
   ],
   "source": [
    "y=model.evaluate(x_test,y_test)"
   ]
  },
  {
   "cell_type": "code",
   "execution_count": 75,
   "metadata": {},
   "outputs": [
    {
     "data": {
      "image/png": "[encoded data removed]",
      "text/plain": [
       "<Figure size 576x360 with 1 Axes>"
      ]
     },
     "metadata": {
      "needs_background": "light"
     },
     "output_type": "display_data"
    }
   ],
   "source": [
    "pd.DataFrame(model_history.history).plot(figsize=(8, 5))\n",
    "plt.grid(True)\n",
    "plt.gca().set_ylim(0, 1)\n",
    "\n",
    "plt.show()"
   ]
  },
  {
   "cell_type": "code",
   "execution_count": 76,
   "metadata": {},
   "outputs": [],
   "source": [
    "x_n=x_test[:3]\n",
    "y_pred=model.predict(x_test)"
   ]
  },
  {
   "cell_type": "code",
   "execution_count": 77,
   "metadata": {},
   "outputs": [],
   "source": [
    "y_pred=np.array(y_pred)"
   ]
  },
  {
   "cell_type": "code",
   "execution_count": 78,
   "metadata": {},
   "outputs": [],
   "source": [
    "y_pred=np.array(y_pred).reshape(5160,)"
   ]
  },
  {
   "cell_type": "code",
   "execution_count": 79,
   "metadata": {},
   "outputs": [
    {
     "data": {
      "text/plain": [
       "<matplotlib.axes._subplots.AxesSubplot at 0x28daeaa6288>"
      ]
     },
     "execution_count": 79,
     "metadata": {},
     "output_type": "execute_result"
    },
    {
     "data": {
      "image/png": "[encoded data removed]",
      "text/plain": [
       "<Figure size 432x288 with 1 Axes>"
      ]
     },
     "metadata": {
      "needs_background": "light"
     },
     "output_type": "display_data"
    }
   ],
   "source": [
    "sns.distplot((y_test-y_pred)*(y_test-y_pred))"
   ]
  },
  {
   "cell_type": "code",
   "execution_count": null,
   "metadata": {},
   "outputs": [],
   "source": []
  }
 ],
 "metadata": {
  "kernelspec": {
   "display_name": "Python 3",
   "language": "python",
   "name": "python3"
  },
  "language_info": {
   "codemirror_mode": {
    "name": "ipython",
    "version": 3
   },
   "file_extension": ".py",
   "mimetype": "text/x-python",
   "name": "python",
   "nbconvert_exporter": "python",
   "pygments_lexer": "ipython3",
   "version": "3.7.6"
  }
 },
 "nbformat": 4,
 "nbformat_minor": 4
}
